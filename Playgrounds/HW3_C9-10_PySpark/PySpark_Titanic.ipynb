{
 "cells": [
  {
   "cell_type": "markdown",
   "metadata": {},
   "source": [
    "# PySpark with Titanic Data\n",
    "\n",
    "---"
   ]
  },
  {
   "cell_type": "markdown",
   "metadata": {},
   "source": [
    "NOTE: The first cell below containing `SparkContext` initialization does not need to run if you have PySpark installed locally and configured to launch with an Anaconda virtual environment. "
   ]
  },
  {
   "cell_type": "code",
   "execution_count": 79,
   "metadata": {},
   "outputs": [],
   "source": [
    "# from pyspark import SparkContext\n",
    "# sc = SparkContext()"
   ]
  },
  {
   "cell_type": "code",
   "execution_count": 94,
   "metadata": {},
   "outputs": [],
   "source": [
    "from pyspark.sql import SparkSession\n",
    "\n",
    "SPARK_APP_NAME = \"Python Spark Titanic Data Investigation\"\n",
    "SPARK_CONFIG_OPT, SPARK_CONFIG_VAL = \"spark.some.config.option\", \"some-value\"\n",
    "\n",
    "spark = SparkSession.builder.appName(SPARK_APP_NAME).config(SPARK_CONFIG_OPT, SPARK_CONFIG_VAL).getOrCreate()"
   ]
  },
  {
   "cell_type": "code",
   "execution_count": 95,
   "metadata": {},
   "outputs": [],
   "source": [
    "FILENAME = \"titanic.csv\"\n",
    "\n",
    "titanicDF = spark.read.csv(FILENAME, header=True, inferSchema=True)"
   ]
  },
  {
   "cell_type": "code",
   "execution_count": 96,
   "metadata": {
    "scrolled": true
   },
   "outputs": [
    {
     "name": "stdout",
     "output_type": "stream",
     "text": [
      "+-----------+--------+------+--------------------+------+----+-----+-----+----------------+-------+-----+--------+\n",
      "|PassengerId|Survived|Pclass|                Name|   Sex| Age|SibSp|Parch|          Ticket|   Fare|Cabin|Embarked|\n",
      "+-----------+--------+------+--------------------+------+----+-----+-----+----------------+-------+-----+--------+\n",
      "|          1|       0|     3|Braund, Mr. Owen ...|  male|22.0|    1|    0|       A/5 21171|   7.25| null|       S|\n",
      "|          2|       1|     1|Cumings, Mrs. Joh...|female|38.0|    1|    0|        PC 17599|71.2833|  C85|       C|\n",
      "|          3|       1|     3|Heikkinen, Miss. ...|female|26.0|    0|    0|STON/O2. 3101282|  7.925| null|       S|\n",
      "+-----------+--------+------+--------------------+------+----+-----+-----+----------------+-------+-----+--------+\n",
      "only showing top 3 rows\n",
      "\n"
     ]
    }
   ],
   "source": [
    "# titanicDF.first()\n",
    "# titanicDF.take(3)\n",
    "titanicDF.show(3)"
   ]
  },
  {
   "cell_type": "code",
   "execution_count": 97,
   "metadata": {},
   "outputs": [
    {
     "name": "stdout",
     "output_type": "stream",
     "text": [
      "+-------+-----------------+-------------------+------------------+----+----+------------------+------------------+-------------------+------------------+-----------------+-----+--------+\n",
      "|summary|      PassengerId|           Survived|            Pclass|Name| Sex|               Age|             SibSp|              Parch|            Ticket|             Fare|Cabin|Embarked|\n",
      "+-------+-----------------+-------------------+------------------+----+----+------------------+------------------+-------------------+------------------+-----------------+-----+--------+\n",
      "|  count|              891|                891|               891| 891| 891|               714|               891|                891|               891|              891|  204|     889|\n",
      "|   mean|            446.0| 0.3838383838383838| 2.308641975308642|null|null| 29.69911764705882|0.5230078563411896|0.38159371492704824|260318.54916792738| 32.2042079685746| null|    null|\n",
      "| stddev|257.3538420152301|0.48659245426485753|0.8360712409770491|null|null|14.526497332334035|1.1027434322934315| 0.8060572211299488|471609.26868834975|49.69342859718089| null|    null|\n",
      "+-------+-----------------+-------------------+------------------+----+----+------------------+------------------+-------------------+------------------+-----------------+-----+--------+\n",
      "only showing top 3 rows\n",
      "\n"
     ]
    }
   ],
   "source": [
    "titanicDF.describe().show(3)"
   ]
  },
  {
   "cell_type": "markdown",
   "metadata": {},
   "source": [
    "## What is the percentage of female passengers younger than 55 years of age?"
   ]
  },
  {
   "cell_type": "code",
   "execution_count": 98,
   "metadata": {},
   "outputs": [
    {
     "name": "stdout",
     "output_type": "stream",
     "text": [
      "+----------+-----+------------------+\n",
      "|(Age < 55)|count|       percent (%)|\n",
      "+----------+-----+------------------+\n",
      "|      null|  177|19.865319865319865|\n",
      "|      true|  672| 75.42087542087542|\n",
      "|     false|   42| 4.713804713804714|\n",
      "+----------+-----+------------------+\n",
      "\n"
     ]
    }
   ],
   "source": [
    "q1_df = titanicDF.groupBy(titanicDF.Age < 55).count()\n",
    "\n",
    "total = q1_df.select(\"count\").agg({\"count\": \"sum\"}).collect().pop()[\"sum(count)\"]\n",
    "result = q1_df.withColumn(\"percent (%)\", (q1_df[\"count\"] / total) * 100)\n",
    "\n",
    "result.show()"
   ]
  },
  {
   "cell_type": "markdown",
   "metadata": {},
   "source": [
    "## Discretize the `Age` continuous values into a new column containing categories for _Children_ (0 - 10y), _Young_ (10 - 50y), and _Old_ (> 50y)."
   ]
  },
  {
   "cell_type": "markdown",
   "metadata": {},
   "source": [
    "NOTE: In order to easily discretize, we will naïvely assume that null ages are zero (fall under _Children_). "
   ]
  },
  {
   "cell_type": "code",
   "execution_count": 99,
   "metadata": {},
   "outputs": [],
   "source": [
    "titanicDF = titanicDF.na.fill(0)"
   ]
  },
  {
   "cell_type": "code",
   "execution_count": 104,
   "metadata": {},
   "outputs": [
    {
     "name": "stdout",
     "output_type": "stream",
     "text": [
      "+----------+-----------------------------+----------+-----+\n",
      "|(Age < 10)|((Age >= 10) AND (Age <= 50))|(Age > 50)|count|\n",
      "+----------+-----------------------------+----------+-----+\n",
      "|      true|                        false|     false|  239|\n",
      "|     false|                         true|     false|  588|\n",
      "|     false|                        false|      true|   64|\n",
      "+----------+-----------------------------+----------+-----+\n",
      "\n"
     ]
    }
   ],
   "source": [
    "AGE_PARAM_CHILDREN = (titanicDF.Age < 10)\n",
    "AGE_PARAM_YOUNG = ((titanicDF.Age >= 10) & (titanicDF.Age <= 50))\n",
    "AGE_PARAM_OLD = (titanicDF.Age > 50)\n",
    "\n",
    "titanicDF.groupBy(AGE_PARAM_CHILDREN, AGE_PARAM_YOUNG, AGE_PARAM_OLD).count().show()"
   ]
  },
  {
   "cell_type": "code",
   "execution_count": 105,
   "metadata": {},
   "outputs": [
    {
     "name": "stdout",
     "output_type": "stream",
     "text": [
      "+-----------+--------+------+--------------------+------+----+-----+-----+----------------+-------+-----+--------+-------+\n",
      "|PassengerId|Survived|Pclass|                Name|   Sex| Age|SibSp|Parch|          Ticket|   Fare|Cabin|Embarked|buckets|\n",
      "+-----------+--------+------+--------------------+------+----+-----+-----+----------------+-------+-----+--------+-------+\n",
      "|          1|       0|     3|Braund, Mr. Owen ...|  male|22.0|    1|    0|       A/5 21171|   7.25| null|       S|    1.0|\n",
      "|          2|       1|     1|Cumings, Mrs. Joh...|female|38.0|    1|    0|        PC 17599|71.2833|  C85|       C|    1.0|\n",
      "|          3|       1|     3|Heikkinen, Miss. ...|female|26.0|    0|    0|STON/O2. 3101282|  7.925| null|       S|    1.0|\n",
      "+-----------+--------+------+--------------------+------+----+-----+-----+----------------+-------+-----+--------+-------+\n",
      "only showing top 3 rows\n",
      "\n"
     ]
    }
   ],
   "source": [
    "from pyspark.ml.feature import Bucketizer\n",
    "\n",
    "bucketizer = Bucketizer(splits=[0, 10, 50, float(\"Inf\") ],inputCol=\"Age\", outputCol=\"buckets\")\n",
    "titanicDF_bucketed = bucketizer.setHandleInvalid(\"keep\").transform(titanicDF)\n",
    "\n",
    "titanicDF_bucketed.show(3)"
   ]
  },
  {
   "cell_type": "code",
   "execution_count": 117,
   "metadata": {},
   "outputs": [
    {
     "name": "stdout",
     "output_type": "stream",
     "text": [
      "+-----------+--------+------+--------------------+------+----+-----+-----+----------------+-------+-----+--------+-------+---------+\n",
      "|PassengerId|Survived|Pclass|                Name|   Sex| Age|SibSp|Parch|          Ticket|   Fare|Cabin|Embarked|buckets|age_group|\n",
      "+-----------+--------+------+--------------------+------+----+-----+-----+----------------+-------+-----+--------+-------+---------+\n",
      "|          1|       0|     3|Braund, Mr. Owen ...|  male|22.0|    1|    0|       A/5 21171|   7.25| null|       S|    1.0|    YOUNG|\n",
      "|          2|       1|     1|Cumings, Mrs. Joh...|female|38.0|    1|    0|        PC 17599|71.2833|  C85|       C|    1.0|    YOUNG|\n",
      "|          3|       1|     3|Heikkinen, Miss. ...|female|26.0|    0|    0|STON/O2. 3101282|  7.925| null|       S|    1.0|    YOUNG|\n",
      "|          4|       1|     1|Futrelle, Mrs. Ja...|female|35.0|    1|    0|          113803|   53.1| C123|       S|    1.0|    YOUNG|\n",
      "|          5|       0|     3|Allen, Mr. Willia...|  male|35.0|    0|    0|          373450|   8.05| null|       S|    1.0|    YOUNG|\n",
      "|          6|       0|     3|    Moran, Mr. James|  male| 0.0|    0|    0|          330877| 8.4583| null|       Q|    0.0| CHILDREN|\n",
      "|          7|       0|     1|McCarthy, Mr. Tim...|  male|54.0|    0|    0|           17463|51.8625|  E46|       S|    2.0|    ADULT|\n",
      "|          8|       0|     3|Palsson, Master. ...|  male| 2.0|    3|    1|          349909| 21.075| null|       S|    0.0| CHILDREN|\n",
      "|          9|       1|     3|Johnson, Mrs. Osc...|female|27.0|    0|    2|          347742|11.1333| null|       S|    1.0|    YOUNG|\n",
      "|         10|       1|     2|Nasser, Mrs. Nich...|female|14.0|    1|    0|          237736|30.0708| null|       C|    1.0|    YOUNG|\n",
      "|         11|       1|     3|Sandstrom, Miss. ...|female| 4.0|    1|    1|         PP 9549|   16.7|   G6|       S|    0.0| CHILDREN|\n",
      "|         12|       1|     1|Bonnell, Miss. El...|female|58.0|    0|    0|          113783|  26.55| C103|       S|    2.0|    ADULT|\n",
      "|         13|       0|     3|Saundercock, Mr. ...|  male|20.0|    0|    0|       A/5. 2151|   8.05| null|       S|    1.0|    YOUNG|\n",
      "|         14|       0|     3|Andersson, Mr. An...|  male|39.0|    1|    5|          347082| 31.275| null|       S|    1.0|    YOUNG|\n",
      "|         15|       0|     3|Vestrom, Miss. Hu...|female|14.0|    0|    0|          350406| 7.8542| null|       S|    1.0|    YOUNG|\n",
      "|         16|       1|     2|Hewlett, Mrs. (Ma...|female|55.0|    0|    0|          248706|   16.0| null|       S|    2.0|    ADULT|\n",
      "|         17|       0|     3|Rice, Master. Eugene|  male| 2.0|    4|    1|          382652| 29.125| null|       Q|    0.0| CHILDREN|\n",
      "|         18|       1|     2|Williams, Mr. Cha...|  male| 0.0|    0|    0|          244373|   13.0| null|       S|    0.0| CHILDREN|\n",
      "|         19|       0|     3|Vander Planke, Mr...|female|31.0|    1|    0|          345763|   18.0| null|       S|    1.0|    YOUNG|\n",
      "|         20|       1|     3|Masselmani, Mrs. ...|female| 0.0|    0|    0|            2649|  7.225| null|       C|    0.0| CHILDREN|\n",
      "+-----------+--------+------+--------------------+------+----+-----+-----+----------------+-------+-----+--------+-------+---------+\n",
      "only showing top 20 rows\n",
      "\n"
     ]
    }
   ],
   "source": [
    "from pyspark.sql.functions import udf\n",
    "from pyspark.sql.types import StringType\n",
    "\n",
    "age_map = {0.0: \"CHILDREN\", 1.0: \"YOUNG\", 2.0: \"ADULT\"}\n",
    "udf_titanic = udf(lambda X: age_map[X], StringType())\n",
    "titanicDF_bucketed = titanicDF_bucketed.withColumn(\"age_group\", udf_titanic(\"buckets\"))\n",
    "\n",
    "titanicDF_bucketed.show()"
   ]
  },
  {
   "cell_type": "markdown",
   "metadata": {},
   "source": [
    "## Find the percentage of each category across the data."
   ]
  },
  {
   "cell_type": "code",
   "execution_count": 130,
   "metadata": {},
   "outputs": [
    {
     "name": "stdout",
     "output_type": "stream",
     "text": [
      "+----------------------+-------------------+-----------------+-----+------------------+\n",
      "|(age_group = CHILDREN)|(age_group = YOUNG)|(age_group = OLD)|count|       percent (%)|\n",
      "+----------------------+-------------------+-----------------+-----+------------------+\n",
      "|                 false|              false|            false|   74| 8.305274971941639|\n",
      "|                  true|              false|            false|  239|26.823793490460158|\n",
      "|                 false|               true|            false|  578| 64.87093153759821|\n",
      "+----------------------+-------------------+-----------------+-----+------------------+\n",
      "\n"
     ]
    }
   ],
   "source": [
    "CHILDREN_BUCKET = (titanicDF_bucketed.age_group == \"CHILDREN\")\n",
    "YOUNG_BUCKET = (titanicDF_bucketed.age_group == \"YOUNG\")\n",
    "OLD_BUCKET = (titanicDF_bucketed.age_group == \"OLD\")\n",
    "\n",
    "q2_df = titanicDF_bucketed.groupBy(CHILDREN_BUCKET, YOUNG_BUCKET, OLD_BUCKET).count()\n",
    "\n",
    "total = q2_df.select(\"count\").agg({\"count\": \"sum\"}).collect().pop()[\"sum(count)\"]\n",
    "result = q2_df.withColumn(\"percent (%)\", (q2_df[\"count\"] / total) * 100)\n",
    "\n",
    "result.show()"
   ]
  }
 ],
 "metadata": {
  "kernelspec": {
   "display_name": "Python 3",
   "language": "python",
   "name": "python3"
  }
 },
 "nbformat": 4,
 "nbformat_minor": 2
}
